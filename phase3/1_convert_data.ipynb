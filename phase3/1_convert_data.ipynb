{
 "cells": [
  {
   "cell_type": "markdown",
   "metadata": {},
   "source": [
    "This file is part of a program that is used to develop an objective way to\n",
    "segment the fetus from ultrasound images, and to analyse the effectiveness of \n",
    "using the resulting mask to produce an unobstructed visualisation of the fetus.\n",
    "The research is organised in three phases: (1) noise reduction filters, \n",
    "(2a) heuristic segmentation models, (2b) deep learning segmentation\n",
    "approach (U-net), and (3) the volume visualisation. The program is developed\n",
    "for the master Computational Science at the UvA from February to November 2020.\n",
    "\n",
    "This file contains code for the volume visualisation. <br>\n",
    "You can run this file to convert the data.  \n",
    "\n",
    "Made by Romy Meester\n"
   ]
  },
  {
   "cell_type": "code",
   "execution_count": 1,
   "metadata": {},
   "outputs": [],
   "source": [
    "\"\"\"\n",
    "Phase 3: The volume visualisations.\n",
    "- VTK (DICOM, numpy arrays)\n",
    "- Volume viewer (.vti -- or .vtk and convert it manually in VolView to .vti)\n",
    "- Exposure render (.mhd)\n",
    "\"\"\"\n",
    "\n",
    "import os\n",
    "import numpy as np\n",
    "import SimpleITK as sitk\n",
    "import pickle\n",
    "import copy\n",
    "import time\n",
    "import matplotlib.pyplot as plt\n",
    "\n",
    "from tqdm import tqdm\n"
   ]
  },
  {
   "cell_type": "code",
   "execution_count": 2,
   "metadata": {},
   "outputs": [],
   "source": [
    "# Constants\n",
    "RESULTS_PATH = 'results_volumes'\n",
    "RESULTS_CONVERT_PATH = os.path.join(RESULTS_PATH, 'results_volumes_convert')\n",
    "RESULTS_VIS_PATH = os.path.join(RESULTS_PATH, 'results_volumes_visualisations')\n",
    "\n",
    "RESULTS_ORG_PATH = os.path.join(RESULTS_CONVERT_PATH, 'convert_original') \n",
    "RESULTS_SMOOTHED_PATH = os.path.join(RESULTS_CONVERT_PATH, 'convert_smoothed') \n",
    "RESULTS_GT_PATH = os.path.join(RESULTS_CONVERT_PATH, 'convert_groundtruth')\n",
    "RESULTS_HEURISTICS_PATH = os.path.join(RESULTS_CONVERT_PATH, 'convert_heuristics')\n",
    "RESULTS_UNET_PATH = os.path.join(RESULTS_CONVERT_PATH, 'convert_unet')\n",
    "\n",
    "DATA_ORG_PATH = '../datasets/'\n",
    "DATA_SMOOTH_PATH = '../phase1/results_filters/results_filters_img'\n",
    "DATA_HEUR_PATH = '../phase2a/results_heuristic_models/results_heuristics_img'\n",
    "DATA_UNET_PATH = '../phase2b/results_unet/results_unet_model'"
   ]
  },
  {
   "cell_type": "code",
   "execution_count": 3,
   "metadata": {},
   "outputs": [
    {
     "name": "stdout",
     "output_type": "stream",
     "text": [
      "Directory results_volumes already exists\n",
      "Directory results_volumes\\results_volumes_convert already exists\n",
      "Directory results_volumes\\results_volumes_visualisations already exists\n",
      "Directory results_volumes\\results_volumes_convert\\convert_original already exists\n",
      "Directory results_volumes\\results_volumes_convert\\convert_smoothed already exists\n",
      "Directory results_volumes\\results_volumes_convert\\convert_groundtruth already exists\n",
      "Directory results_volumes\\results_volumes_convert\\convert_heuristics already exists\n",
      "Directory results_volumes\\results_volumes_convert\\convert_unet already exists\n"
     ]
    }
   ],
   "source": [
    "def create_dir(PATH):\n",
    "    \"\"\" Create a directory. \"\"\"\n",
    "    try:\n",
    "        os.mkdir(PATH)\n",
    "        print('Directory', PATH, 'created' )\n",
    "    except FileExistsError:\n",
    "        print('Directory', PATH, 'already exists' )\n",
    "\n",
    "        \n",
    "# create results folder\n",
    "create_dir(RESULTS_PATH)  \n",
    "        \n",
    "# create results folder for the converted data and the visualisations\n",
    "create_dir(RESULTS_CONVERT_PATH)\n",
    "create_dir(RESULTS_VIS_PATH)\n",
    "\n",
    "# create results folders\n",
    "create_dir(RESULTS_ORG_PATH)\n",
    "create_dir(RESULTS_SMOOTHED_PATH)\n",
    "create_dir(RESULTS_GT_PATH)\n",
    "create_dir(RESULTS_HEURISTICS_PATH)\n",
    "create_dir(RESULTS_UNET_PATH)"
   ]
  },
  {
   "cell_type": "code",
   "execution_count": 4,
   "metadata": {},
   "outputs": [
    {
     "name": "stdout",
     "output_type": "stream",
     "text": [
      "Directory results_volumes\\results_volumes_convert\\convert_groundtruth\\volume_viewer already exists\n",
      "Directory results_volumes\\results_volumes_convert\\convert_groundtruth\\exposure_render already exists\n",
      "Directory results_volumes\\results_volumes_convert\\convert_heuristics\\volume_viewer already exists\n",
      "Directory results_volumes\\results_volumes_convert\\convert_heuristics\\exposure_render already exists\n",
      "Directory results_volumes\\results_volumes_convert\\convert_original\\volume_viewer already exists\n",
      "Directory results_volumes\\results_volumes_convert\\convert_original\\exposure_render already exists\n",
      "Directory results_volumes\\results_volumes_convert\\convert_smoothed\\volume_viewer already exists\n",
      "Directory results_volumes\\results_volumes_convert\\convert_smoothed\\exposure_render already exists\n",
      "Directory results_volumes\\results_volumes_convert\\convert_unet\\volume_viewer already exists\n",
      "Directory results_volumes\\results_volumes_convert\\convert_unet\\exposure_render already exists\n"
     ]
    }
   ],
   "source": [
    "#create in each directory two other folders \n",
    "folders = [f for f in os.listdir(RESULTS_CONVERT_PATH) if os.path.isdir(os.path.join(RESULTS_CONVERT_PATH, f))]\n",
    "\n",
    "for folder in folders: \n",
    "    to_folder = os.path.join(RESULTS_CONVERT_PATH, folder) \n",
    "    RESULTS_VOLUMEVIEWER = os.path.join(to_folder, 'volume_viewer')\n",
    "    RESULTS_EXPOSURERENDER = os.path.join(to_folder, 'exposure_render')\n",
    "    \n",
    "    create_dir(RESULTS_VOLUMEVIEWER)\n",
    "    create_dir(RESULTS_EXPOSURERENDER)"
   ]
  },
  {
   "cell_type": "markdown",
   "metadata": {},
   "source": [
    "# Original images"
   ]
  },
  {
   "cell_type": "code",
   "execution_count": 5,
   "metadata": {},
   "outputs": [],
   "source": [
    "def load_scans(pathDicom):\n",
    "    \"\"\" Load the dicom files into sitk with the image series reader.\n",
    "    Input: path of the directory with the dicom files.\n",
    "    Output: the 3D image.\n",
    "    \"\"\"\n",
    "    \n",
    "    reader = sitk.ImageSeriesReader()\n",
    "    filenamesDICOM = reader.GetGDCMSeriesFileNames(pathDicom)\n",
    "    reader.SetFileNames(filenamesDICOM)\n",
    "    img = reader.Execute()\n",
    "    return img"
   ]
  },
  {
   "cell_type": "code",
   "execution_count": 6,
   "metadata": {},
   "outputs": [],
   "source": [
    "def get_data_dcm(rootdir, scans = 'org'):\n",
    "    \"\"\" Generate the dataset of dcm files in a dictionary. \"\"\"\n",
    "    \n",
    "    datasets = {}\n",
    "    \n",
    "    # the folders\n",
    "    datasetnames = [f for f in os.listdir(rootdir) if os.path.isdir(os.path.join(rootdir, f))]\n",
    "    print('Loading: ' + str(len(datasetnames)) + ' datasets')\n",
    "    \n",
    "    # which scans\n",
    "    if scans == 'org':\n",
    "        scan = '/crop_org'\n",
    "    elif scans == 'gt':\n",
    "        scan = '/crop_gt'\n",
    "    \n",
    "    # load scans to numpy\n",
    "    for dataset in tqdm(datasetnames):\n",
    "        time.sleep(0.1)\n",
    "        \n",
    "        images = load_scans(rootdir + dataset + scan) \n",
    "        images = sitk.GetArrayFromImage(images)\n",
    "        \n",
    "        # Save images in datasets dictionary\n",
    "        datasets.update({dataset: images})\n",
    "\n",
    "    print(\"datasets created\")\n",
    "    return datasets\n",
    "    "
   ]
  },
  {
   "cell_type": "code",
   "execution_count": 7,
   "metadata": {},
   "outputs": [
    {
     "name": "stderr",
     "output_type": "stream",
     "text": [
      "\r",
      "  0%|                                                                                            | 0/7 [00:00<?, ?it/s]"
     ]
    },
    {
     "name": "stdout",
     "output_type": "stream",
     "text": [
      "Loading: 7 datasets\n"
     ]
    },
    {
     "name": "stderr",
     "output_type": "stream",
     "text": [
      "100%|████████████████████████████████████████████████████████████████████████████████████| 7/7 [00:09<00:00,  1.32s/it]"
     ]
    },
    {
     "name": "stdout",
     "output_type": "stream",
     "text": [
      "datasets created\n"
     ]
    },
    {
     "name": "stderr",
     "output_type": "stream",
     "text": [
      "\n"
     ]
    }
   ],
   "source": [
    "# the original images in numpy arrays\n",
    "org_images = get_data_dcm(DATA_ORG_PATH, scans ='org')"
   ]
  },
  {
   "cell_type": "code",
   "execution_count": 8,
   "metadata": {},
   "outputs": [
    {
     "name": "stdout",
     "output_type": "stream",
     "text": [
      "Convert 7 datasets\n"
     ]
    }
   ],
   "source": [
    "def convert_mhd(datasets, savedir):\n",
    "    \"\"\" Save the numpy images to .mhd file for exposure render. \"\"\"\n",
    "    \n",
    "    print('Convert ' + str(len(datasets)) + ' datasets')\n",
    "    for datakey, values in datasets.items():\n",
    "        # convert numpy array to sitk image\n",
    "        image =  sitk.GetImageFromArray(values)\n",
    "        \n",
    "        # write the file\n",
    "        writer = sitk.ImageFileWriter()\n",
    "        writer.SetFileName(savedir + '/' + 'exposure_render/' +  datakey + '.mhd')\n",
    "        writer.Execute(image)\n",
    "\n",
    "convert_mhd(datasets = org_images, savedir = RESULTS_ORG_PATH)"
   ]
  },
  {
   "cell_type": "markdown",
   "metadata": {},
   "source": [
    "# Smoothed images"
   ]
  },
  {
   "cell_type": "code",
   "execution_count": 9,
   "metadata": {},
   "outputs": [],
   "source": [
    "def load_data_smoothed_pickle(PATH, filename):\n",
    "    \"\"\" Load data from file using pickle. \"\"\"\n",
    "    with open(PATH + '/' + filename + \".pkl\",\"rb\") as f:\n",
    "        new_data = pickle.load(f)\n",
    "    return new_data\n",
    "\n",
    "def get_data_smoothedimages(rootdir, filterdata):\n",
    "    \"\"\" Get the data of the specified smoothed images. \"\"\"\n",
    "    \n",
    "    datasets = {}\n",
    "        \n",
    "    # the files\n",
    "    alldatasetnames = [f for f in os.listdir(rootdir) if os.path.isfile(os.path.join(rootdir, f))]\n",
    "    datasetnames = []\n",
    "    for name in alldatasetnames:\n",
    "        if filterdata['filtername'] and str(filterdata['parameters'][0]) in name:\n",
    "            try: \n",
    "                if str(filterdata['parameters'][0]) and str(filterdata['parameters'][1])  in name:\n",
    "                    datasetnames.append(name[:-4])\n",
    "            except:\n",
    "                datasetnames.append(name[:-4])\n",
    "    \n",
    "    # load scans to numpy\n",
    "    print('Loading: ' + str(len(datasetnames)) + ' datasets')\n",
    "    for dataset in tqdm(datasetnames):\n",
    "        time.sleep(0.1)\n",
    "        \n",
    "        images_smoothed = load_data_smoothed_pickle(rootdir, dataset) \n",
    "      \n",
    "        # Save images in datasets dictionary\n",
    "        datasetname = dataset.split('_', 1)[0]\n",
    "        datasets.update({datasetname: images_smoothed})\n",
    "\n",
    "    print(\"datasets created\")\n",
    "    return datasets\n"
   ]
  },
  {
   "cell_type": "code",
   "execution_count": 10,
   "metadata": {},
   "outputs": [
    {
     "name": "stderr",
     "output_type": "stream",
     "text": [
      "\r",
      "  0%|                                                                                            | 0/7 [00:00<?, ?it/s]"
     ]
    },
    {
     "name": "stdout",
     "output_type": "stream",
     "text": [
      "Loading: 7 datasets\n"
     ]
    },
    {
     "name": "stderr",
     "output_type": "stream",
     "text": [
      "100%|████████████████████████████████████████████████████████████████████████████████████| 7/7 [00:01<00:00,  5.30it/s]"
     ]
    },
    {
     "name": "stdout",
     "output_type": "stream",
     "text": [
      "datasets created\n"
     ]
    },
    {
     "name": "stderr",
     "output_type": "stream",
     "text": [
      "\n"
     ]
    }
   ],
   "source": [
    "# the smoothed images in numpy arrays\n",
    "filterdata = {'filtername': 'anisodiff', 'parameters': [10, 0.04, 4]}\n",
    "smoothed_images = get_data_smoothedimages(DATA_SMOOTH_PATH, filterdata)"
   ]
  },
  {
   "cell_type": "code",
   "execution_count": 11,
   "metadata": {},
   "outputs": [],
   "source": [
    "def convert_vtk(datasets, savedir):\n",
    "    \"\"\" Save the numpy images to .vtk file for eventually showing in volume viewer.\n",
    "        Additionally, the files are in Volview manually saved as a .vti file.\n",
    "        This .vti file can be read in volume viewer. \"\"\"\n",
    "\n",
    "    print('Convert ' + str(len(datasets)) + ' datasets')\n",
    "    for datakey, values in datasets.items():\n",
    "        # convert numpy array to sitk image\n",
    "        image =  sitk.GetImageFromArray(values)\n",
    "        \n",
    "        # write the file\n",
    "        writer = sitk.ImageFileWriter()\n",
    "        writer.SetFileName(savedir + '/' + 'volume_viewer/' +  datakey + '.vtk')\n",
    "        writer.Execute(image)\n"
   ]
  },
  {
   "cell_type": "code",
   "execution_count": 36,
   "metadata": {},
   "outputs": [
    {
     "name": "stdout",
     "output_type": "stream",
     "text": [
      "Convert 7 datasets\n",
      "Convert 7 datasets\n"
     ]
    }
   ],
   "source": [
    "# convert the smoothed original image as mhd and vtk files\n",
    "# (the original image and ground truth image do not need to be converted to vtk files, \n",
    "# since these DICOM files can be opened directly in VolView)\n",
    "convert_mhd(datasets = smoothed_images, savedir = RESULTS_SMOOTHED_PATH)\n",
    "convert_vtk(datasets = smoothed_images, savedir = RESULTS_SMOOTHED_PATH)"
   ]
  },
  {
   "cell_type": "code",
   "execution_count": 38,
   "metadata": {},
   "outputs": [],
   "source": [
    "def save_data_smooth_pickle(PATH, data, filename):\n",
    "    \"\"\" Save the data of the smoothed images in pickle file. \"\"\"\n",
    "    with open(PATH + '/' + filename + \".pkl\",\"wb\") as f:\n",
    "        pickle.dump(data,f)\n",
    "    print(filename, \"created\")"
   ]
  },
  {
   "cell_type": "code",
   "execution_count": 40,
   "metadata": {},
   "outputs": [
    {
     "name": "stdout",
     "output_type": "stream",
     "text": [
      "smoothed_images created\n"
     ]
    }
   ],
   "source": [
    "# save the data in numpy arrays (pickle files) for VTK\n",
    "save_data_smooth_pickle(PATH = RESULTS_SMOOTHED_PATH, data = smoothed_images, filename = 'smoothed_images')"
   ]
  },
  {
   "cell_type": "markdown",
   "metadata": {},
   "source": [
    "# Ground truth"
   ]
  },
  {
   "cell_type": "code",
   "execution_count": 13,
   "metadata": {},
   "outputs": [
    {
     "name": "stderr",
     "output_type": "stream",
     "text": [
      "\r",
      "  0%|                                                                                            | 0/7 [00:00<?, ?it/s]"
     ]
    },
    {
     "name": "stdout",
     "output_type": "stream",
     "text": [
      "Loading: 7 datasets\n"
     ]
    },
    {
     "name": "stderr",
     "output_type": "stream",
     "text": [
      "100%|████████████████████████████████████████████████████████████████████████████████████| 7/7 [00:02<00:00,  2.49it/s]"
     ]
    },
    {
     "name": "stdout",
     "output_type": "stream",
     "text": [
      "datasets created\n"
     ]
    },
    {
     "name": "stderr",
     "output_type": "stream",
     "text": [
      "\n"
     ]
    }
   ],
   "source": [
    "# get the ground truth images\n",
    "gt_images = get_data_dcm(DATA_ORG_PATH, scans ='gt')"
   ]
  },
  {
   "cell_type": "code",
   "execution_count": 14,
   "metadata": {},
   "outputs": [
    {
     "name": "stdout",
     "output_type": "stream",
     "text": [
      "datasets created\n"
     ]
    }
   ],
   "source": [
    "# convert the (inverted mask) ground truth over the original image     \n",
    "def apply_mask(frame_org, frame_mask):\n",
    "    \"\"\" Apply a mask over the original image. \"\"\"\n",
    "    frame_result = copy.copy(frame_org)\n",
    "    frame_result[frame_mask == 0] = 0\n",
    "\n",
    "    return frame_result\n",
    "\n",
    "def generate_invmask(org_datasets, binary_datasets):\n",
    "    \"\"\" Generate the inverted masks. \n",
    "        Apply the binary mask over the original image to create an inverted mask. \"\"\"\n",
    "    \n",
    "    inv_datasets = {}\n",
    " \n",
    "    # apply the masks over the original images\n",
    "    for binary_key, binary_image in binary_datasets.items():\n",
    "        dataset_key = binary_key.split('_', 1)[0]\n",
    "        image = apply_mask(org_datasets[dataset_key], binary_image)\n",
    "        \n",
    "        # Save images in datasets dictionary\n",
    "        inv_datasets.update({binary_key: image})\n",
    "        \n",
    "    print(\"datasets created\") \n",
    "    return inv_datasets\n",
    "        \n",
    "inv_gt_images = generate_invmask(org_images, gt_images)"
   ]
  },
  {
   "cell_type": "code",
   "execution_count": 35,
   "metadata": {},
   "outputs": [
    {
     "name": "stdout",
     "output_type": "stream",
     "text": [
      "Convert 7 datasets\n",
      "Convert 7 datasets\n"
     ]
    }
   ],
   "source": [
    "# convert ground truth\n",
    "convert_mhd(datasets = inv_gt_images, savedir = RESULTS_GT_PATH)\n",
    "convert_vtk(datasets = inv_gt_images, savedir = RESULTS_GT_PATH)"
   ]
  },
  {
   "cell_type": "markdown",
   "metadata": {},
   "source": [
    "# Heuristic segmentations"
   ]
  },
  {
   "cell_type": "code",
   "execution_count": 16,
   "metadata": {},
   "outputs": [
    {
     "name": "stderr",
     "output_type": "stream",
     "text": [
      "\r",
      "  0%|                                                                                           | 0/28 [00:00<?, ?it/s]"
     ]
    },
    {
     "name": "stdout",
     "output_type": "stream",
     "text": [
      "Loading: 28\n"
     ]
    },
    {
     "name": "stderr",
     "output_type": "stream",
     "text": [
      "100%|██████████████████████████████████████████████████████████████████████████████████| 28/28 [00:03<00:00,  9.20it/s]"
     ]
    },
    {
     "name": "stdout",
     "output_type": "stream",
     "text": [
      "datasets created\n"
     ]
    },
    {
     "name": "stderr",
     "output_type": "stream",
     "text": [
      "\n"
     ]
    }
   ],
   "source": [
    "# get all the heuristic segmentations\n",
    "def get_allfilenames(path): \n",
    "    \"\"\" Get the unique filenames. \"\"\"\n",
    "    filenames = []\n",
    "    allfiles = [f for f in os.listdir(path) if os.path.isfile(os.path.join(path, f))]\n",
    "    \n",
    "    for item, name in enumerate(allfiles):\n",
    "        filenames.append(name[:-4])\n",
    "\n",
    "    return filenames\n",
    "\n",
    "def load_data_pickle(PATH, filename):\n",
    "    \"\"\" Load data from file using pickle. \"\"\"\n",
    "    with open(PATH + '/' + filename + \".pkl\",\"rb\") as f:\n",
    "        new_data = pickle.load(f)\n",
    "    return new_data\n",
    "\n",
    "\n",
    "def get_data_heuristics(rootdir):\n",
    "    \"\"\" Generate the dataset of pickle files with numpy arrays in a dictionary. \"\"\"\n",
    "    \n",
    "    datasets = {}\n",
    "    \n",
    "    # the folders\n",
    "    datasetnames = get_allfilenames(rootdir)\n",
    "    print('Loading: ' + str(len(datasetnames)))\n",
    " \n",
    "    # load scans to numpy\n",
    "    for dataset in tqdm(datasetnames):\n",
    "        time.sleep(0.1)\n",
    "        \n",
    "        images = load_data_pickle(rootdir, dataset) \n",
    "\n",
    "        # Save images in datasets dictionary\n",
    "        datasets.update({dataset: images})\n",
    "\n",
    "    print(\"datasets created\")\n",
    "    return datasets\n",
    "\n",
    "heuristic_images = get_data_heuristics(rootdir = DATA_HEUR_PATH)"
   ]
  },
  {
   "cell_type": "code",
   "execution_count": 17,
   "metadata": {},
   "outputs": [
    {
     "name": "stdout",
     "output_type": "stream",
     "text": [
      "datasets created\n"
     ]
    }
   ],
   "source": [
    "# inverted heuristic mask over original image\n",
    "inv_heur_images = generate_invmask(org_images, heuristic_images)"
   ]
  },
  {
   "cell_type": "code",
   "execution_count": 18,
   "metadata": {},
   "outputs": [
    {
     "name": "stdout",
     "output_type": "stream",
     "text": [
      "Convert 28 datasets\n",
      "Convert 28 datasets\n"
     ]
    }
   ],
   "source": [
    "# convert inverted heuristic mask as mhd and vtk files\n",
    "convert_mhd(datasets = inv_heur_images, savedir = RESULTS_HEURISTICS_PATH)\n",
    "convert_vtk(datasets = inv_heur_images, savedir = RESULTS_HEURISTICS_PATH)"
   ]
  },
  {
   "cell_type": "markdown",
   "metadata": {},
   "source": [
    "# U-net segmentations"
   ]
  },
  {
   "cell_type": "code",
   "execution_count": 65,
   "metadata": {},
   "outputs": [],
   "source": [
    "from keras.models import Model, load_model"
   ]
  },
  {
   "cell_type": "code",
   "execution_count": 20,
   "metadata": {},
   "outputs": [
    {
     "name": "stdout",
     "output_type": "stream",
     "text": [
      "model_unet_elu_org6\n",
      "WARNING:tensorflow:From c:\\users\\rmmee\\appdata\\local\\programs\\python\\python37\\lib\\site-packages\\tensorflow\\python\\framework\\op_def_library.py:263: colocate_with (from tensorflow.python.framework.ops) is deprecated and will be removed in a future version.\n",
      "Instructions for updating:\n",
      "Colocations handled automatically by placer.\n",
      "WARNING:tensorflow:From c:\\users\\rmmee\\appdata\\local\\programs\\python\\python37\\lib\\site-packages\\keras\\backend\\tensorflow_backend.py:3445: calling dropout (from tensorflow.python.ops.nn_ops) with keep_prob is deprecated and will be removed in a future version.\n",
      "Instructions for updating:\n",
      "Please use `rate` instead of `keep_prob`. Rate should be set to `rate = 1 - keep_prob`.\n",
      "dataset1\n",
      "151/151 [==============================] - 13s 87ms/step\n",
      "dataset2\n",
      "115/115 [==============================] - 10s 84ms/step\n",
      "dataset3\n",
      "104/104 [==============================] - 9s 83ms/step\n",
      "dataset4\n",
      "143/143 [==============================] - 12s 87ms/step\n",
      "dataset5\n",
      "207/207 [==============================] - 19s 91ms/step\n",
      "dataset6\n",
      "180/180 [==============================] - 16s 87ms/step\n",
      "dataset7\n",
      "184/184 [==============================] - 15s 82ms/step\n",
      "model_unet_elu_smoothed6\n",
      "dataset1\n",
      "151/151 [==============================] - 12s 83ms/step\n",
      "dataset2\n",
      "115/115 [==============================] - 9s 82ms/step\n",
      "dataset3\n",
      "104/104 [==============================] - 9s 85ms/step\n",
      "dataset4\n",
      "143/143 [==============================] - 12s 83ms/step\n",
      "dataset5\n",
      "207/207 [==============================] - 17s 82ms/step\n",
      "dataset6\n",
      "180/180 [==============================] - 15s 82ms/step\n",
      "dataset7\n",
      "184/184 [==============================] - 15s 82ms/step\n",
      "model_unet_relu_smoothed6\n",
      "dataset1\n",
      "151/151 [==============================] - 12s 81ms/step\n",
      "dataset2\n",
      "115/115 [==============================] - 9s 80ms/step\n",
      "dataset3\n",
      "104/104 [==============================] - 8s 79ms/step\n",
      "dataset4\n",
      "143/143 [==============================] - 11s 79ms/step\n",
      "dataset5\n",
      "207/207 [==============================] - 16s 79ms/step\n",
      "dataset6\n",
      "180/180 [==============================] - 14s 79ms/step\n",
      "dataset7\n",
      "184/184 [==============================] - 15s 79ms/step\n",
      "datasets created\n"
     ]
    }
   ],
   "source": [
    "def dice_coef(y_true, y_pred):\n",
    "    \"\"\" Dice similarity coefficient. \"\"\"\n",
    "    smooth = 1.0\n",
    "    y_true_f = K.batch_flatten(y_true)\n",
    "    y_pred_f = K.batch_flatten(y_pred)\n",
    "    intersection = 2. * K.sum(y_true_f * y_pred_f, axis=1, keepdims=True) + smooth\n",
    "    union = K.sum(y_true_f, axis=1, keepdims=True) + K.sum(y_pred_f, axis=1, keepdims=True) + smooth\n",
    "    return K.mean(intersection / union)\n",
    "\n",
    "def mean_iou(y_true, y_pred):\n",
    "    \"\"\" Mean Intersection over Union (IoU). \"\"\"\n",
    "    prec = []\n",
    "    for t in np.arange(0.5, 1.0, 0.05):\n",
    "        y_pred_ = tf.to_int32(y_pred > t)\n",
    "        score, up_opt = tf.metrics.mean_iou(y_true, y_pred_, 2)\n",
    "        K.get_session().run(tf.local_variables_initializer())\n",
    "        with tf.control_dependencies([up_opt]):\n",
    "            score = tf.identity(score)\n",
    "        prec.append(score)\n",
    "    return K.mean(K.stack(prec), axis=0)\n",
    "\n",
    "def precision_m(y_true, y_pred):\n",
    "    \"\"\" Precision. \"\"\"\n",
    "    true_positives = K.sum(K.round(K.clip(y_true * y_pred, 0, 1)))\n",
    "    predicted_positives = K.sum(K.round(K.clip(y_pred, 0, 1)))\n",
    "    precision = true_positives / (predicted_positives + K.epsilon())\n",
    "    return precision\n",
    "\n",
    "def recall_m(y_true, y_pred):\n",
    "    \"\"\" Recall. \"\"\"\n",
    "    true_positives = K.sum(K.round(K.clip(y_true * y_pred, 0, 1)))\n",
    "    possible_positives = K.sum(K.round(K.clip(y_true, 0, 1)))\n",
    "    recall = true_positives / (possible_positives + K.epsilon())\n",
    "    return recall\n",
    "\n",
    "def get_modelnames(rootdir, iternumber):\n",
    "    \"\"\" Get the necessary modelnames. \"\"\" \n",
    "    \n",
    "    allmodels = [f for f in os.listdir(rootdir) if os.path.isfile(os.path.join(rootdir, f))]\n",
    "    modelnames = []\n",
    "    for model in allmodels:\n",
    "        if model.startswith('model_unet') and str(iternumber) in model:\n",
    "            modelnames.append(model)\n",
    "    \n",
    "    return modelnames\n",
    "\n",
    "def pad(image, max_height, max_width):\n",
    "    \"\"\" Pad the images with zeros. \"\"\"\n",
    "    \n",
    "    h, w = image.shape[:2]\n",
    "    diff_vert = max_height - h\n",
    "    pad_top = diff_vert // 2\n",
    "    pad_bottom = diff_vert - pad_top\n",
    "    diff_hori = max_width - w\n",
    "    pad_left = diff_hori // 2\n",
    "    pad_right = diff_hori - pad_left\n",
    "\n",
    "    return np.copy(np.pad(image, ((pad_top, pad_bottom), (pad_left, pad_right)), mode='constant', constant_values=0))\n",
    "\n",
    "def add_padding(images, size = [192, 224]): \n",
    "    \"\"\" Add the padding. \"\"\"\n",
    "    max_width = size[0] \n",
    "    max_height = size[1]\n",
    "    \n",
    "    new_images = []\n",
    "        \n",
    "    for image in images: \n",
    "        new_image = pad(image, max_height, max_width)\n",
    "        new_images.append(new_image)\n",
    "        \n",
    "    return np.array(new_images)\n",
    "\n",
    "def reshape_data(data): \n",
    "    \"\"\" Reshaping the data to (x, y, z, 1). \"\"\"\n",
    "    data = np.reshape(data, (data.shape[0], data.shape[1], data.shape[2], 1))\n",
    "    return data\n",
    "\n",
    "def generate_data(images): \n",
    "    \"\"\" Generate the input images to use in the models. \"\"\"\n",
    "    \n",
    "    datasets = {} \n",
    "    \n",
    "    # iterate over datasets and change the data \n",
    "    for datakey, image in images.items():        \n",
    "        padded_data = add_padding(image)\n",
    "        generated_data = reshape_data(padded_data)\n",
    "        \n",
    "        # Save images in datasets dictionary\n",
    "        datasets.update({datakey: generated_data})\n",
    "    \n",
    "    return datasets \n",
    "\n",
    "def get_data_unet(rootdir, org_images, smoothed_images, iternumber, show=False): \n",
    "    \"\"\" Get the data of all the U-net models. \"\"\"\n",
    "    \n",
    "    datasets = {}\n",
    "    \n",
    "    # get the modelnames of the #th iteration number\n",
    "    modelnames = get_modelnames(rootdir, iternumber)\n",
    "\n",
    "    # original images or smoothed images \n",
    "    for modelname in modelnames: \n",
    "        print(modelname)\n",
    "        \n",
    "        if 'org' in modelname:\n",
    "            inputimages = generate_data(org_images)\n",
    "        elif 'smoothed' in modelname: \n",
    "            inputimages = generate_data(smoothed_images)\n",
    "        \n",
    "        # load the model\n",
    "        pathname = os.path.join(rootdir, modelname)\n",
    "        model = load_model(pathname, custom_objects={'dice_coef': dice_coef,'mean_iou': mean_iou, \n",
    "                                                     'recall_m': recall_m, 'precision_m': precision_m}, \n",
    "                                                     compile = False)\n",
    "        \n",
    "        # make a prediction with the input images \n",
    "        for datakey, image in inputimages.items():\n",
    "            print(datakey)\n",
    "            predicted_images = model.predict(image, verbose=1)\n",
    "            preds_thresh_images = (predicted_images > 0.5).astype(np.uint8)         \n",
    "            volume_image = np.squeeze(preds_thresh_images)\n",
    "    \n",
    "            if show == True:\n",
    "                plt.imshow(np.squeeze(predicted_images[70]), cmap='gray')\n",
    "                plt.show()\n",
    "\n",
    "                plt.imshow(np.squeeze(preds_thresh_images[70]), cmap='gray')\n",
    "                plt.show()\n",
    "\n",
    "            # Save images in datasets dictionary\n",
    "            datasetname = datakey + '_' + modelname.split('_', 2)[-1]\n",
    "\n",
    "            datasets.update({datasetname: volume_image})\n",
    "\n",
    "    print(\"datasets created\")\n",
    "    return datasets    \n",
    "    \n",
    "pred_unet_images = get_data_unet(DATA_UNET_PATH, org_images, smoothed_images, iternumber = 6, show=False)\n",
    "    "
   ]
  },
  {
   "cell_type": "code",
   "execution_count": 21,
   "metadata": {},
   "outputs": [
    {
     "data": {
      "image/png": "[encoded data removed]",
      "text/plain": [
       "<Figure size 432x288 with 1 Axes>"
      ]
     },
     "metadata": {
      "needs_background": "light"
     },
     "output_type": "display_data"
    }
   ],
   "source": [
    "# example image\n",
    "image = pred_unet_images['dataset6_relu_smoothed6']\n",
    "plt.imshow(np.squeeze(image[70]), cmap='gray')\n",
    "plt.show()"
   ]
  },
  {
   "cell_type": "code",
   "execution_count": 22,
   "metadata": {},
   "outputs": [
    {
     "name": "stdout",
     "output_type": "stream",
     "text": [
      "datasets created\n"
     ]
    }
   ],
   "source": [
    "# create also the corresponding original/smoothed images and ground truths \n",
    "def get_corresponding_data_unet(rootdir, org_images, smoothed_images, gt_images, iternumber): \n",
    "    \"\"\" Get the original image and the ground truth data of all the U-net models. \"\"\"\n",
    "    \n",
    "    datasets_org = {}\n",
    "    datasets_gt = {}\n",
    "    \n",
    "    # get the modelnames of the #th iteration number\n",
    "    modelnames = get_modelnames(rootdir, iternumber)\n",
    "    \n",
    "    # iterate over the models\n",
    "    for modelname in modelnames: \n",
    "        \n",
    "        # the input images as original images or smoothed images \n",
    "        if 'org' in modelname:\n",
    "            inputimages = generate_data(org_images)\n",
    "        elif 'smoothed' in modelname: \n",
    "            inputimages = generate_data(smoothed_images)\n",
    "            \n",
    "        # the ground truth \n",
    "        groundtruth_images = generate_data(gt_images)       \n",
    "        \n",
    "        # create the dictionaries\n",
    "        for datakey, image in inputimages.items():            \n",
    "            original_image = np.squeeze(image)\n",
    "            groundtruth_image = np.squeeze(groundtruth_images[datakey])\n",
    "\n",
    "            # Save images in datasets dictionary\n",
    "            datasetname = datakey + '_' + modelname.split('_', 2)[-1]\n",
    "            datasets_org.update({datasetname: original_image})\n",
    "            datasets_gt.update({datasetname: groundtruth_image})\n",
    "\n",
    "    print(\"datasets created\")\n",
    "    return datasets_org, datasets_gt    \n",
    "    \n",
    "org_unet_images, gt_unet_images = get_corresponding_data_unet(DATA_UNET_PATH, org_images, smoothed_images, gt_images, iternumber=6)\n",
    "    "
   ]
  },
  {
   "cell_type": "code",
   "execution_count": 23,
   "metadata": {},
   "outputs": [
    {
     "name": "stdout",
     "output_type": "stream",
     "text": [
      "datasets created\n"
     ]
    }
   ],
   "source": [
    "def generate_invmask_unet(org_datasets, binary_datasets):\n",
    "    \"\"\" Generate the inverted masks. \n",
    "        Apply the binary mask over the original image to create an inverted mask. \"\"\"\n",
    "    \n",
    "    inv_datasets = {}\n",
    " \n",
    "    # apply the masks over the original images\n",
    "    for binary_key, binary_image in binary_datasets.items():\n",
    "        image = apply_mask(org_datasets[binary_key], binary_image)\n",
    "        \n",
    "        # Save images in datasets dictionary\n",
    "        inv_datasets.update({binary_key: image})\n",
    "        \n",
    "    print(\"datasets created\") \n",
    "    return inv_datasets\n",
    "\n",
    "# inverted u-net mask over original images and smoothed images\n",
    "inv_pred_unet_images = generate_invmask_unet(org_unet_images, pred_unet_images)"
   ]
  },
  {
   "cell_type": "code",
   "execution_count": 24,
   "metadata": {},
   "outputs": [
    {
     "name": "stdout",
     "output_type": "stream",
     "text": [
      "datasets created\n"
     ]
    }
   ],
   "source": [
    "# inverted mask of ground truth mask over original images and smoothed images\n",
    "inv_gt_unet_images = generate_invmask_unet(org_unet_images, gt_unet_images)"
   ]
  },
  {
   "cell_type": "code",
   "execution_count": 25,
   "metadata": {},
   "outputs": [
    {
     "data": {
      "image/png": "[encoded data removed]",
      "text/plain": [
       "<Figure size 432x288 with 1 Axes>"
      ]
     },
     "metadata": {
      "needs_background": "light"
     },
     "output_type": "display_data"
    }
   ],
   "source": [
    "# example image\n",
    "image = inv_pred_unet_images['dataset6_relu_smoothed6']\n",
    "plt.imshow(np.squeeze(image[70]), cmap='gray')\n",
    "plt.show()"
   ]
  },
  {
   "cell_type": "code",
   "execution_count": 26,
   "metadata": {},
   "outputs": [
    {
     "name": "stdout",
     "output_type": "stream",
     "text": [
      "Directory results_volumes\\results_volumes_convert\\convert_unet/exposure_render/org already exists\n",
      "Directory results_volumes\\results_volumes_convert\\convert_unet/exposure_render/gt already exists\n",
      "Directory results_volumes\\results_volumes_convert\\convert_unet/exposure_render/pred already exists\n"
     ]
    }
   ],
   "source": [
    "# Because a padding has been added to the original/smoothed and ground truth image, \n",
    "# These images are additionally saved for exposure render\n",
    "RESULTS_UNET_EXP_ORG_PATH = RESULTS_UNET_PATH + '/exposure_render/org' \n",
    "RESULTS_UNET_EXP_GT_PATH = RESULTS_UNET_PATH + '/exposure_render/gt' \n",
    "RESULTS_UNET_EXP_PRED_PATH = RESULTS_UNET_PATH + '/exposure_render/pred' \n",
    "\n",
    "create_dir(RESULTS_UNET_EXP_ORG_PATH)\n",
    "create_dir(RESULTS_UNET_EXP_GT_PATH)\n",
    "create_dir(RESULTS_UNET_EXP_PRED_PATH)"
   ]
  },
  {
   "cell_type": "code",
   "execution_count": 27,
   "metadata": {},
   "outputs": [],
   "source": [
    "def convert_unet_mhd(datasets, savedir):\n",
    "    \"\"\" Save the numpy images to .mhd file for exposure render. \"\"\"\n",
    "    \n",
    "    print('Convert ' + str(len(datasets)) + ' datasets')\n",
    "    for datakey, values in datasets.items():\n",
    "        # convert numpy array to sitk image\n",
    "        image =  sitk.GetImageFromArray(values)\n",
    "        \n",
    "        # write the file\n",
    "        writer = sitk.ImageFileWriter()\n",
    "        writer.SetFileName(savedir + '/' +  datakey + '.mhd')\n",
    "        writer.Execute(image)\n"
   ]
  },
  {
   "cell_type": "code",
   "execution_count": 28,
   "metadata": {},
   "outputs": [
    {
     "name": "stdout",
     "output_type": "stream",
     "text": [
      "Convert 21 datasets\n",
      "Convert 21 datasets\n",
      "Convert 21 datasets\n"
     ]
    }
   ],
   "source": [
    "# convert the predictions \n",
    "convert_unet_mhd(datasets = org_unet_images, savedir = RESULTS_UNET_EXP_ORG_PATH)\n",
    "convert_unet_mhd(datasets = inv_gt_unet_images, savedir = RESULTS_UNET_EXP_GT_PATH)\n",
    "convert_unet_mhd(datasets = inv_pred_unet_images, savedir = RESULTS_UNET_EXP_PRED_PATH)"
   ]
  },
  {
   "cell_type": "code",
   "execution_count": 29,
   "metadata": {},
   "outputs": [
    {
     "name": "stdout",
     "output_type": "stream",
     "text": [
      "Directory results_volumes\\results_volumes_convert\\convert_unet/volume_viewer/org already exists\n",
      "Directory results_volumes\\results_volumes_convert\\convert_unet/volume_viewer/gt already exists\n",
      "Directory results_volumes\\results_volumes_convert\\convert_unet/volume_viewer/pred already exists\n"
     ]
    }
   ],
   "source": [
    "# Because a padding has been added to the original/smoothed and ground truth image, \n",
    "# These images are additionally saved for volume viewer\n",
    "RESULTS_UNET_VV_ORG_PATH = RESULTS_UNET_PATH + '/volume_viewer/org' \n",
    "RESULTS_UNET_VV_GT_PATH = RESULTS_UNET_PATH + '/volume_viewer/gt' \n",
    "RESULTS_UNET_VV_PRED_PATH = RESULTS_UNET_PATH + '/volume_viewer/pred'\n",
    "\n",
    "create_dir(RESULTS_UNET_VV_ORG_PATH)\n",
    "create_dir(RESULTS_UNET_VV_GT_PATH)\n",
    "create_dir(RESULTS_UNET_VV_PRED_PATH)"
   ]
  },
  {
   "cell_type": "code",
   "execution_count": 30,
   "metadata": {},
   "outputs": [],
   "source": [
    "def convert_unet_vtk(datasets, savedir):\n",
    "    \"\"\" Save the numpy images to .vtk file for eventually showing in volume viewer.\n",
    "        Additionally, the files are in Volview manually saved as a .vti file.\n",
    "        This .vti file can be read in volume viewer. \"\"\"\n",
    "\n",
    "    print('Convert ' + str(len(datasets)) + ' datasets')\n",
    "    for datakey, values in datasets.items():\n",
    "        # convert numpy array to sitk image\n",
    "        image =  sitk.GetImageFromArray(values)\n",
    "        \n",
    "        # write the file\n",
    "        writer = sitk.ImageFileWriter()\n",
    "        writer.SetFileName(savedir + '/' +  datakey + '.vtk')\n",
    "        writer.Execute(image)\n",
    "        "
   ]
  },
  {
   "cell_type": "code",
   "execution_count": 31,
   "metadata": {},
   "outputs": [
    {
     "name": "stdout",
     "output_type": "stream",
     "text": [
      "Convert 21 datasets\n",
      "Convert 21 datasets\n",
      "Convert 21 datasets\n"
     ]
    }
   ],
   "source": [
    "convert_unet_vtk(datasets = org_unet_images, savedir = RESULTS_UNET_VV_ORG_PATH)\n",
    "convert_unet_vtk(datasets = inv_gt_unet_images, savedir = RESULTS_UNET_VV_GT_PATH)\n",
    "convert_unet_vtk(datasets = inv_pred_unet_images, savedir = RESULTS_UNET_VV_PRED_PATH)"
   ]
  },
  {
   "cell_type": "code",
   "execution_count": 32,
   "metadata": {},
   "outputs": [],
   "source": [
    "# save the data in pickle file\n",
    "def save_data_pickle(PATH, data, filename, iternumber):\n",
    "    \"\"\" Save data in pickle file. \"\"\"\n",
    "    with open(PATH + '/' + filename + str(iternumber) + \".pkl\",\"wb\") as f:\n",
    "        pickle.dump(data,f)\n",
    "    print(filename, \"created\")\n",
    "    "
   ]
  },
  {
   "cell_type": "code",
   "execution_count": 33,
   "metadata": {},
   "outputs": [
    {
     "name": "stdout",
     "output_type": "stream",
     "text": [
      "org_unet_images created\n",
      "gt_unet_images created\n",
      "pred_unet_images created\n"
     ]
    }
   ],
   "source": [
    "# save the data in numpy arrays (pickle files) for the animations and VTK\n",
    "save_data_pickle(PATH = RESULTS_UNET_PATH, data = org_unet_images, filename = 'org_unet_images', iternumber=6)\n",
    "save_data_pickle(PATH = RESULTS_UNET_PATH, data = gt_unet_images, filename = 'gt_unet_images', iternumber=6)\n",
    "save_data_pickle(PATH = RESULTS_UNET_PATH, data = pred_unet_images, filename = 'pred_unet_images', iternumber=6)"
   ]
  },
  {
   "cell_type": "code",
   "execution_count": 34,
   "metadata": {},
   "outputs": [
    {
     "data": {
      "image/png": "[encoded data removed]",
      "text/plain": [
       "<Figure size 432x288 with 3 Axes>"
      ]
     },
     "metadata": {
      "needs_background": "light"
     },
     "output_type": "display_data"
    }
   ],
   "source": [
    "# example\n",
    "org = org_unet_images['dataset6_relu_smoothed6']\n",
    "gt = gt_unet_images['dataset6_relu_smoothed6']\n",
    "pred = pred_unet_images['dataset6_relu_smoothed6']\n",
    "\n",
    "index = 50\n",
    "fig, axs = plt.subplots(nrows=1, ncols=3, sharex=True)\n",
    "axs[0].imshow(org[index], cmap='gray')\n",
    "axs[1].imshow(gt[index], cmap='gray')\n",
    "axs[2].imshow(pred[index], cmap='gray')\n",
    "plt.show()"
   ]
  },
  {
   "cell_type": "code",
   "execution_count": null,
   "metadata": {},
   "outputs": [],
   "source": []
  }
 ],
 "metadata": {
  "kernelspec": {
   "display_name": "Python 3",
   "language": "python",
   "name": "python3"
  },
  "language_info": {
   "codemirror_mode": {
    "name": "ipython",
    "version": 3
   },
   "file_extension": ".py",
   "mimetype": "text/x-python",
   "name": "python",
   "nbconvert_exporter": "python",
   "pygments_lexer": "ipython3",
   "version": "3.7.4"
  }
 },
 "nbformat": 4,
 "nbformat_minor": 2
}
